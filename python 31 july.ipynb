{
 "cells": [
  {
   "cell_type": "code",
   "execution_count": 1,
   "id": "7ac13875",
   "metadata": {},
   "outputs": [],
   "source": [
    "# set"
   ]
  },
  {
   "cell_type": "code",
   "execution_count": null,
   "id": "0c2ee3b2",
   "metadata": {},
   "outputs": [],
   "source": []
  },
  {
   "cell_type": "code",
   "execution_count": 2,
   "id": "f6da1542",
   "metadata": {},
   "outputs": [],
   "source": [
    "# pop"
   ]
  },
  {
   "cell_type": "code",
   "execution_count": 5,
   "id": "820e069b",
   "metadata": {},
   "outputs": [
    {
     "name": "stdout",
     "output_type": "stream",
     "text": [
      "{20, 40, 10, 30}\n"
     ]
    }
   ],
   "source": [
    "a={10,20,30,40,50}\n",
    "a.pop()\n",
    "print(a)"
   ]
  },
  {
   "cell_type": "code",
   "execution_count": 6,
   "id": "ff8b08e1",
   "metadata": {},
   "outputs": [
    {
     "name": "stdout",
     "output_type": "stream",
     "text": [
      "{50, 70, 30}\n"
     ]
    }
   ],
   "source": [
    "b={90,70,50,30}\n",
    "b.pop()\n",
    "print(b)"
   ]
  },
  {
   "cell_type": "code",
   "execution_count": 7,
   "id": "abbdc031",
   "metadata": {},
   "outputs": [
    {
     "name": "stdout",
     "output_type": "stream",
     "text": [
      "{66, 100, 222}\n"
     ]
    }
   ],
   "source": [
    "c={100,222,400,66}\n",
    "c.pop()\n",
    "print(c)"
   ]
  },
  {
   "cell_type": "code",
   "execution_count": 8,
   "id": "df59f9a0",
   "metadata": {},
   "outputs": [
    {
     "name": "stdout",
     "output_type": "stream",
     "text": [
      "{6666, 77, 999}\n"
     ]
    }
   ],
   "source": [
    "d={999,88,77,6666}\n",
    "d.pop()\n",
    "print(d)"
   ]
  },
  {
   "cell_type": "code",
   "execution_count": 2,
   "id": "55b0a9aa",
   "metadata": {},
   "outputs": [
    {
     "name": "stdout",
     "output_type": "stream",
     "text": [
      "{500}\n"
     ]
    }
   ],
   "source": [
    "e={400,500}\n",
    "e.pop()\n",
    "print(e)"
   ]
  },
  {
   "cell_type": "code",
   "execution_count": null,
   "id": "f1b74b2c",
   "metadata": {},
   "outputs": [],
   "source": []
  },
  {
   "cell_type": "code",
   "execution_count": 3,
   "id": "6c0d9ad7",
   "metadata": {},
   "outputs": [],
   "source": [
    "# remove"
   ]
  },
  {
   "cell_type": "code",
   "execution_count": 4,
   "id": "40174dd3",
   "metadata": {},
   "outputs": [
    {
     "name": "stdout",
     "output_type": "stream",
     "text": [
      "{'bb'}\n"
     ]
    }
   ],
   "source": [
    "a={\"aa\",\"bb\"}\n",
    "a.remove(\"aa\")\n",
    "print(a)"
   ]
  },
  {
   "cell_type": "code",
   "execution_count": 5,
   "id": "91682c17",
   "metadata": {},
   "outputs": [
    {
     "name": "stdout",
     "output_type": "stream",
     "text": [
      "{50, 20, 40, 10}\n"
     ]
    }
   ],
   "source": [
    "b={10,20,30,40,50}\n",
    "b.remove(30)\n",
    "print(b)"
   ]
  },
  {
   "cell_type": "code",
   "execution_count": 6,
   "id": "d834d4d2",
   "metadata": {},
   "outputs": [
    {
     "name": "stdout",
     "output_type": "stream",
     "text": [
      "{100, 300}\n"
     ]
    }
   ],
   "source": [
    "c={100,300,\"kkk\"}\n",
    "c.remove(\"kkk\")\n",
    "print(c)"
   ]
  },
  {
   "cell_type": "code",
   "execution_count": 7,
   "id": "89133a28",
   "metadata": {},
   "outputs": [
    {
     "name": "stdout",
     "output_type": "stream",
     "text": [
      "{'d', 'a', 55, 'b', 'c'}\n"
     ]
    }
   ],
   "source": [
    "d={\"a\",\"b\",\"c\",\"d\",44,55}\n",
    "d.remove(44)\n",
    "print(d)"
   ]
  },
  {
   "cell_type": "code",
   "execution_count": 8,
   "id": "015a3aa3",
   "metadata": {},
   "outputs": [
    {
     "name": "stdout",
     "output_type": "stream",
     "text": [
      "{40, 20, 30}\n"
     ]
    }
   ],
   "source": [
    "e={10,10,10,20,30,40}\n",
    "e.remove(10)\n",
    "print(e)"
   ]
  },
  {
   "cell_type": "code",
   "execution_count": null,
   "id": "d615b2eb",
   "metadata": {},
   "outputs": [],
   "source": []
  },
  {
   "cell_type": "code",
   "execution_count": 9,
   "id": "c0c5d3d9",
   "metadata": {},
   "outputs": [],
   "source": [
    "# list "
   ]
  },
  {
   "cell_type": "code",
   "execution_count": 3,
   "id": "8959421d",
   "metadata": {},
   "outputs": [],
   "source": [
    "# (sort,sorted)"
   ]
  },
  {
   "cell_type": "code",
   "execution_count": 4,
   "id": "ffc0325c",
   "metadata": {},
   "outputs": [
    {
     "name": "stdout",
     "output_type": "stream",
     "text": [
      "None\n",
      "[3, 4, 7, 9, 11, 22]\n"
     ]
    }
   ],
   "source": [
    "a=[3,9,7,11,4,22]\n",
    "print(a.sort())\n",
    "print(sorted(a))"
   ]
  },
  {
   "cell_type": "code",
   "execution_count": 5,
   "id": "16bde8ab",
   "metadata": {},
   "outputs": [
    {
     "name": "stdout",
     "output_type": "stream",
     "text": [
      "[10, 20, 30, 40, 90]\n",
      "[10, 20, 30, 40, 90]\n"
     ]
    }
   ],
   "source": [
    "b=[90,40,30,10,20]\n",
    "b.sort()\n",
    "print(sorted(b))\n",
    "print(b)"
   ]
  },
  {
   "cell_type": "code",
   "execution_count": 7,
   "id": "6674ee4b",
   "metadata": {},
   "outputs": [
    {
     "name": "stdout",
     "output_type": "stream",
     "text": [
      "[1, 2, 3, 4, 5]\n",
      "[44, 55, 222, 1111]\n"
     ]
    }
   ],
   "source": [
    "c=[55,44,222,1111]\n",
    "c1=[1,2,3,4,5]\n",
    "c.sort()\n",
    "print(sorted(c1))\n",
    "print(c)"
   ]
  },
  {
   "cell_type": "code",
   "execution_count": 9,
   "id": "d278db57",
   "metadata": {},
   "outputs": [
    {
     "name": "stdout",
     "output_type": "stream",
     "text": [
      "None\n",
      "[200, 400, 600, 800]\n"
     ]
    }
   ],
   "source": [
    "d=[200,400,600,800]\n",
    "print(d.sort())\n",
    "print(sorted(d))"
   ]
  },
  {
   "cell_type": "code",
   "execution_count": null,
   "id": "81e05edb",
   "metadata": {},
   "outputs": [],
   "source": []
  },
  {
   "cell_type": "code",
   "execution_count": 10,
   "id": "ecfdf287",
   "metadata": {},
   "outputs": [],
   "source": [
    "# tuple"
   ]
  },
  {
   "cell_type": "code",
   "execution_count": 11,
   "id": "2fb5e3f0",
   "metadata": {},
   "outputs": [],
   "source": [
    "# (sort,sorted)"
   ]
  },
  {
   "cell_type": "code",
   "execution_count": 16,
   "id": "b0c9c657",
   "metadata": {},
   "outputs": [
    {
     "name": "stdout",
     "output_type": "stream",
     "text": [
      "[10, 20, 30, 40, 90]\n"
     ]
    }
   ],
   "source": [
    "a=(90,40,30,10,20)\n",
    "print(sorted(a))"
   ]
  },
  {
   "cell_type": "code",
   "execution_count": 17,
   "id": "12ea0fb5",
   "metadata": {},
   "outputs": [
    {
     "name": "stdout",
     "output_type": "stream",
     "text": [
      "[3, 4, 7, 9, 11, 22]\n"
     ]
    }
   ],
   "source": [
    "b=(3,9,7,11,4,22)\n",
    "print(sorted(b))"
   ]
  },
  {
   "cell_type": "code",
   "execution_count": 18,
   "id": "b239cfc9",
   "metadata": {},
   "outputs": [
    {
     "name": "stdout",
     "output_type": "stream",
     "text": [
      "[200, 400, 600, 800]\n"
     ]
    }
   ],
   "source": [
    "c=(200,400,600,800)\n",
    "print(sorted(c))"
   ]
  },
  {
   "cell_type": "code",
   "execution_count": 19,
   "id": "8960c98c",
   "metadata": {},
   "outputs": [
    {
     "ename": "AttributeError",
     "evalue": "'tuple' object has no attribute 'sort'",
     "output_type": "error",
     "traceback": [
      "\u001b[1;31m---------------------------------------------------------------------------\u001b[0m",
      "\u001b[1;31mAttributeError\u001b[0m                            Traceback (most recent call last)",
      "Cell \u001b[1;32mIn[19], line 2\u001b[0m\n\u001b[0;32m      1\u001b[0m d\u001b[38;5;241m=\u001b[39m(\u001b[38;5;241m55\u001b[39m,\u001b[38;5;241m44\u001b[39m,\u001b[38;5;241m222\u001b[39m,\u001b[38;5;241m1111\u001b[39m)\n\u001b[1;32m----> 2\u001b[0m \u001b[43md\u001b[49m\u001b[38;5;241;43m.\u001b[39;49m\u001b[43msort\u001b[49m()\n\u001b[0;32m      3\u001b[0m \u001b[38;5;28mprint\u001b[39m(\u001b[38;5;28msorted\u001b[39m(d))\n",
      "\u001b[1;31mAttributeError\u001b[0m: 'tuple' object has no attribute 'sort'"
     ]
    }
   ],
   "source": [
    "d=(55,44,222,1111)\n",
    "d.sort()\n",
    "print(sorted(d))"
   ]
  },
  {
   "cell_type": "code",
   "execution_count": null,
   "id": "471962d3",
   "metadata": {},
   "outputs": [],
   "source": []
  }
 ],
 "metadata": {
  "kernelspec": {
   "display_name": "Python 3 (ipykernel)",
   "language": "python",
   "name": "python3"
  },
  "language_info": {
   "codemirror_mode": {
    "name": "ipython",
    "version": 3
   },
   "file_extension": ".py",
   "mimetype": "text/x-python",
   "name": "python",
   "nbconvert_exporter": "python",
   "pygments_lexer": "ipython3",
   "version": "3.10.9"
  }
 },
 "nbformat": 4,
 "nbformat_minor": 5
}
